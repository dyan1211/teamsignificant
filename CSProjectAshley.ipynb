{
 "cells": [
  {
   "cell_type": "code",
   "execution_count": 3,
   "metadata": {
    "collapsed": false
   },
   "outputs": [],
   "source": [
    "%matplotlib inline\n",
    "import numpy as np\n",
    "import scipy as sp\n",
    "import matplotlib as mpl\n",
    "import matplotlib.cm as cm\n",
    "import matplotlib.pyplot as plt\n",
    "import pandas as pd\n",
    "pd.set_option('display.width', 500)\n",
    "pd.set_option('display.max_columns', 100)\n",
    "pd.set_option('display.notebook_repr_html', True)\n",
    "#import seaborn as sns\n",
    "#sns.set_style(\"whitegrid\")\n",
    "#sns.set_context(\"poster\")"
   ]
  },
  {
   "cell_type": "code",
   "execution_count": 2,
   "metadata": {
    "collapsed": true
   },
   "outputs": [],
   "source": [
    "import requests\n",
    "import time\n",
    "import json"
   ]
  },
  {
   "cell_type": "code",
   "execution_count": 101,
   "metadata": {
    "collapsed": false
   },
   "outputs": [],
   "source": [
    "\n",
    "docs=[]\n",
    "ns = 1 #number of pages\n",
    "\n",
    "#get first 100 pages of json dictionaries\n",
    "for i in range(1,101): \n",
    "    url = \"http://api.nytimes.com/svc/search/v2/articlesearch.json?q=Health&page=%d&begin_date=20150101&end_date=20150114&api-key=5cdab36b05348a4da2e74046dfb16a03:17:73541790\" % i\n",
    "    page = requests.get(url)\n",
    "    pagedocs = page.json()['response']['docs']\n",
    "    time.sleep(1)\n",
    "    \n",
    "    #append each separate dictionary from a page to docs\n",
    "    for j in range(0,len(pagedocs)):\n",
    "        docs.append(pagedocs[j])"
   ]
  },
  {
   "cell_type": "code",
   "execution_count": 102,
   "metadata": {
    "collapsed": false
   },
   "outputs": [],
   "source": [
    "fd=open(\"data/nytdocs-19.json\",\"w\")\n",
    "json.dump(docs, fd)\n",
    "fd.close()"
   ]
  },
  {
   "cell_type": "code",
   "execution_count": 117,
   "metadata": {
    "collapsed": false
   },
   "outputs": [],
   "source": [
    "docsinfo = []\n",
    "for d in docs:\n",
    "    obs = {}\n",
    "    obs['id'] = d['_id']\n",
    "    obs['type'] = d['type_of_material']\n",
    "    obs['doctype'] = d['document_type']\n",
    "    obs['date'] = d['pub_date']\n",
    "    obs['news_desk'] = d['news_desk']\n",
    "    obs['section'] = d['section_name']\n",
    "    obs['subsection'] = d['subsection_name']\n",
    "    obs['abstract'] = d['abstract']\n",
    "    obs['paragraph'] = d['lead_paragraph']\n",
    "    \n",
    "    if d['headline'].get('main') is not None:\n",
    "        obs['headline'] = d['headline']['main']\n",
    "    else:\n",
    "        obs['headline'] = d['headline']['name']\n",
    "    \n",
    "    if obs['date'] is not None:\n",
    "        obs['date'] = obs['date'][0:10]\n",
    "    \n",
    "    #Take out abstracts and lead paragraphs with none to join text\n",
    "    if obs['abstract'] is None:\n",
    "        a = ' '\n",
    "    else: \n",
    "        a = obs['abstract']\n",
    "    if obs['paragraph'] == 'TK TK TK' or obs['paragraph'] is None:\n",
    "        p = ' '\n",
    "    else:\n",
    "        p = obs['paragraph']\n",
    "    \n",
    "    text = [obs['headline'], p, a]\n",
    "    obs['text'] = \" \".join(text)\n",
    "    \n",
    "    docsinfo.append(obs)"
   ]
  },
  {
   "cell_type": "code",
   "execution_count": 118,
   "metadata": {
    "collapsed": false
   },
   "outputs": [
    {
     "data": {
      "text/html": [
       "<div>\n",
       "<table border=\"1\" class=\"dataframe\">\n",
       "  <thead>\n",
       "    <tr style=\"text-align: right;\">\n",
       "      <th></th>\n",
       "      <th>abstract</th>\n",
       "      <th>date</th>\n",
       "      <th>doctype</th>\n",
       "      <th>headline</th>\n",
       "      <th>id</th>\n",
       "      <th>news_desk</th>\n",
       "      <th>paragraph</th>\n",
       "      <th>section</th>\n",
       "      <th>subsection</th>\n",
       "      <th>text</th>\n",
       "      <th>type</th>\n",
       "    </tr>\n",
       "  </thead>\n",
       "  <tbody>\n",
       "    <tr>\n",
       "      <th>0</th>\n",
       "      <td>Dallas Journal; last person in Dallas being mo...</td>\n",
       "      <td>2014-11-08</td>\n",
       "      <td>article</td>\n",
       "      <td>Dallas Closes the Door on Its Ebola Scare</td>\n",
       "      <td>545ce19d79881039320ed5e9</td>\n",
       "      <td>National</td>\n",
       "      <td>The last person in the region being monitored ...</td>\n",
       "      <td>U.S.</td>\n",
       "      <td>None</td>\n",
       "      <td>Dallas Closes the Door on Its Ebola Scare The ...</td>\n",
       "      <td>News</td>\n",
       "    </tr>\n",
       "    <tr>\n",
       "      <th>1</th>\n",
       "      <td>When President Obama meets with the congressio...</td>\n",
       "      <td>2014-11-06</td>\n",
       "      <td>blogpost</td>\n",
       "      <td>Details on Obama's Ebola Funding Request</td>\n",
       "      <td>545bedac79881039320ecf87</td>\n",
       "      <td>None</td>\n",
       "      <td>None</td>\n",
       "      <td>None</td>\n",
       "      <td>None</td>\n",
       "      <td>Details on Obama's Ebola Funding Request   Whe...</td>\n",
       "      <td>Blog</td>\n",
       "    </tr>\n",
       "  </tbody>\n",
       "</table>\n",
       "</div>"
      ],
      "text/plain": [
       "                                            abstract        date   doctype                                   headline                        id news_desk                                          paragraph section subsection                                               text  type\n",
       "0  Dallas Journal; last person in Dallas being mo...  2014-11-08   article  Dallas Closes the Door on Its Ebola Scare  545ce19d79881039320ed5e9  National  The last person in the region being monitored ...    U.S.       None  Dallas Closes the Door on Its Ebola Scare The ...  News\n",
       "1  When President Obama meets with the congressio...  2014-11-06  blogpost   Details on Obama's Ebola Funding Request  545bedac79881039320ecf87      None                                               None    None       None  Details on Obama's Ebola Funding Request   Whe...  Blog"
      ]
     },
     "execution_count": 118,
     "metadata": {},
     "output_type": "execute_result"
    }
   ],
   "source": [
    "docsdf = pd.DataFrame(docsinfo)\n",
    "docsdf.head(2)"
   ]
  },
  {
   "cell_type": "code",
   "execution_count": 119,
   "metadata": {
    "collapsed": false
   },
   "outputs": [
    {
     "data": {
      "text/plain": [
       "(646, 11)"
      ]
     },
     "execution_count": 119,
     "metadata": {},
     "output_type": "execute_result"
    }
   ],
   "source": [
    "docsdf.shape"
   ]
  },
  {
   "cell_type": "code",
   "execution_count": 120,
   "metadata": {
    "collapsed": true
   },
   "outputs": [],
   "source": [
    "docsdf['date'] = pd.to_datetime(docsdf['date'])"
   ]
  },
  {
   "cell_type": "code",
   "execution_count": 121,
   "metadata": {
    "collapsed": true
   },
   "outputs": [],
   "source": [
    "docsdf.to_csv(\"data/docsdf-50.csv\")"
   ]
  },
  {
   "cell_type": "markdown",
   "metadata": {},
   "source": [
    "## Automated code"
   ]
  },
  {
   "cell_type": "code",
   "execution_count": null,
   "metadata": {
    "collapsed": false
   },
   "outputs": [
    {
     "name": "stdout",
     "output_type": "stream",
     "text": [
      "92 363\n",
      "93"
     ]
    }
   ],
   "source": [
    "%%time\n",
    "count = 92\n",
    "months = ['01', '01', '01', '02', '02', '02', '03', '03', '03', '04', '04', '04', '05', '05', '05', '06', '06', '06', '07', '07', '07', '08', '08', '08', '09', '09', '09', '10', '10', '10', '11', '11', '11', '12', '12', '12']\n",
    "startdays = ['01', '11', '21', '01', '11', '21', '01', '11', '21', '01', '11', '21', '01', '11', '21', '01', '11', '21', '01', '11', '21', '01', '11', '21', '01', '11', '21', '01', '11', '21', '01', '11', '21', '01', '11', '21']\n",
    "enddays = ['10', '20', '31', '10', '20', '27', '10', '20', '31', '10', '20', '30', '10', '20', '31', '10', '20', '30', '10', '20', '31', '10', '20', '31', '10', '20', '30', '10', '20', '31', '10', '20', '30', '10', '20', '31']\n",
    "\n",
    "pcount = 0\n",
    "\n",
    "for d in range(36):\n",
    "    sdate = '2012' + month[d] + startday[d]\n",
    "    edate = '2012' + month[d] +  endday[d]\n",
    "\n",
    "    docs=[]\n",
    "        \n",
    "    #get first 100 pages of json dictionaries\n",
    "    for i in range(1,101): \n",
    "        url = \"http://api.nytimes.com/svc/search/v2/articlesearch.json?q=Health&page={}&begin_date={}&end_date={}&api-key=5cdab36b05348a4da2e74046dfb16a03:17:73541790\".format(i, sdate, edate)\n",
    "        page = requests.get(url)\n",
    "        pagedocs = page.json()['response']['docs']\n",
    "        time.sleep(1)\n",
    "        \n",
    "        pcount += len(pagedocs)\n",
    "        #append each separate dictionary from a page to docs\n",
    "        for j in range(0,len(pagedocs)):\n",
    "            docs.append(pagedocs[j])\n",
    "\n",
    "        \n",
    "    docsinfo = []\n",
    "    for d in docs:\n",
    "        obs = {}\n",
    "        obs['id'] = d['_id']\n",
    "        obs['type'] = d['type_of_material']\n",
    "        obs['doctype'] = d['document_type']\n",
    "        obs['date'] = d['pub_date']\n",
    "        obs['news_desk'] = d['news_desk']\n",
    "        obs['section'] = d['section_name']\n",
    "        obs['subsection'] = d['subsection_name']\n",
    "        obs['abstract'] = d['abstract']\n",
    "        obs['paragraph'] = d['lead_paragraph']\n",
    "        \n",
    "        if d['headline'].get('main') is not None:\n",
    "            obs['headline'] = d['headline']['main']\n",
    "        else:\n",
    "            obs['headline'] = d['headline']['name']\n",
    "    \n",
    "        if obs['date'] is not None:\n",
    "            obs['date'] = obs['date'][0:10]\n",
    "    \n",
    "        #Take out abstracts and lead paragraphs with none to join text\n",
    "        if obs['abstract'] is None:\n",
    "            a = ' '\n",
    "        else: \n",
    "            a = obs['abstract']\n",
    "        if obs['paragraph'] == 'TK TK TK' or obs['paragraph'] is None:\n",
    "            p = ' '\n",
    "        else:\n",
    "            p = obs['paragraph']\n",
    "    \n",
    "        text = [obs['headline'], p, a]\n",
    "        obs['text'] = \" \".join(text)\n",
    "    \n",
    "        docsinfo.append(obs)\n",
    "    \n",
    "    docsdf = pd.DataFrame(docsinfo)\n",
    "    docsdf['date'] = pd.to_datetime(docsdf['date'])\n",
    "    docsdf.to_csv(\"data/docsdf-{}.csv\".format(count)) \n",
    "\n",
    "    print(count, pcount)\n",
    "    count += 1 \n",
    "    "
   ]
  },
  {
   "cell_type": "code",
   "execution_count": 114,
   "metadata": {
    "collapsed": false
   },
   "outputs": [],
   "source": []
  },
  {
   "cell_type": "markdown",
   "metadata": {},
   "source": [
    "## Other stuff"
   ]
  },
  {
   "cell_type": "code",
   "execution_count": 31,
   "metadata": {
    "collapsed": false
   },
   "outputs": [
    {
     "data": {
      "text/plain": [
       "abstract              object\n",
       "date          datetime64[ns]\n",
       "doctype               object\n",
       "headline              object\n",
       "id                    object\n",
       "news_desk             object\n",
       "paragraph             object\n",
       "section               object\n",
       "subsection            object\n",
       "text                  object\n",
       "type                  object\n",
       "dtype: object"
      ]
     },
     "execution_count": 31,
     "metadata": {},
     "output_type": "execute_result"
    }
   ],
   "source": [
    "docsdf.dtypes"
   ]
  },
  {
   "cell_type": "code",
   "execution_count": null,
   "metadata": {
    "collapsed": true
   },
   "outputs": [],
   "source": [
    "#with open(\"nytdocs100.json\") as json_file:\n",
    "#    docs = json.load(json_file)"
   ]
  },
  {
   "cell_type": "markdown",
   "metadata": {},
   "source": [
    "Make date column a date type\n",
    "\n",
    "http://stackoverflow.com/questions/9504356/convert-string-into-date-type-on-python\n",
    "\n",
    "http://stackoverflow.com/questions/16852911/how-do-i-convert-dates-in-a-pandas-data-frame-to-a-date-data-type  ***"
   ]
  },
  {
   "cell_type": "code",
   "execution_count": 23,
   "metadata": {
    "collapsed": false
   },
   "outputs": [],
   "source": [
    "docsdf.to_csv(\"docsdf100-2.csv\")  #, encoding = 'utf-8')"
   ]
  },
  {
   "cell_type": "code",
   "execution_count": 9,
   "metadata": {
    "collapsed": false
   },
   "outputs": [
    {
     "data": {
      "text/html": [
       "<div>\n",
       "<table border=\"1\" class=\"dataframe\">\n",
       "  <thead>\n",
       "    <tr style=\"text-align: right;\">\n",
       "      <th></th>\n",
       "      <th>Unnamed: 0</th>\n",
       "      <th>abstract</th>\n",
       "      <th>date</th>\n",
       "      <th>doctype</th>\n",
       "      <th>headline</th>\n",
       "      <th>id</th>\n",
       "      <th>news_desk</th>\n",
       "      <th>paragraph</th>\n",
       "      <th>section</th>\n",
       "      <th>subsection</th>\n",
       "      <th>text</th>\n",
       "      <th>type</th>\n",
       "    </tr>\n",
       "  </thead>\n",
       "  <tbody>\n",
       "    <tr>\n",
       "      <th>0</th>\n",
       "      <td>0</td>\n",
       "      <td>NaN</td>\n",
       "      <td>2015-11-03</td>\n",
       "      <td>article</td>\n",
       "      <td>Know Your Risks, but Meat Still Isnt the Enemy</td>\n",
       "      <td>56374e0a798810408f299696</td>\n",
       "      <td>Upshot</td>\n",
       "      <td>The link between processed meat and cancer is ...</td>\n",
       "      <td>The Upshot</td>\n",
       "      <td>NaN</td>\n",
       "      <td>Know Your Risks, but Meat Still Isnt the Enem...</td>\n",
       "      <td>News</td>\n",
       "    </tr>\n",
       "    <tr>\n",
       "      <th>1</th>\n",
       "      <td>1</td>\n",
       "      <td>Study in journal The Lancet concludes Chinese ...</td>\n",
       "      <td>2015-10-13</td>\n",
       "      <td>article</td>\n",
       "      <td>Study Shows Spread of Cigarettes in China</td>\n",
       "      <td>561bc3a67988101d11e0da9e</td>\n",
       "      <td>Science</td>\n",
       "      <td>Chinese men smoke one-third of all the worlds...</td>\n",
       "      <td>Health</td>\n",
       "      <td>NaN</td>\n",
       "      <td>Study Shows Spread of Cigarettes in China Chin...</td>\n",
       "      <td>News</td>\n",
       "    </tr>\n",
       "    <tr>\n",
       "      <th>2</th>\n",
       "      <td>2</td>\n",
       "      <td>Food and Drug Administration approves Narcan n...</td>\n",
       "      <td>2015-11-19</td>\n",
       "      <td>article</td>\n",
       "      <td>F.D.A. Approves a Nasal Spray to Combat Opioid...</td>\n",
       "      <td>564d433579881039a958bb07</td>\n",
       "      <td>National</td>\n",
       "      <td>A nasal spray designed to reverse opioid overd...</td>\n",
       "      <td>U.S.</td>\n",
       "      <td>NaN</td>\n",
       "      <td>F.D.A. Approves a Nasal Spray to Combat Opioid...</td>\n",
       "      <td>Brief</td>\n",
       "    </tr>\n",
       "    <tr>\n",
       "      <th>3</th>\n",
       "      <td>3</td>\n",
       "      <td>NaN</td>\n",
       "      <td>2015-11-17</td>\n",
       "      <td>article</td>\n",
       "      <td>How to Decrease Prices for an Expensive Class ...</td>\n",
       "      <td>5649c243798810095961385d</td>\n",
       "      <td>Upshot</td>\n",
       "      <td>Two professors suggest requiring biologic manu...</td>\n",
       "      <td>The Upshot</td>\n",
       "      <td>NaN</td>\n",
       "      <td>How to Decrease Prices for an Expensive Class ...</td>\n",
       "      <td>News</td>\n",
       "    </tr>\n",
       "    <tr>\n",
       "      <th>4</th>\n",
       "      <td>4</td>\n",
       "      <td>NaN</td>\n",
       "      <td>2015-10-07</td>\n",
       "      <td>article</td>\n",
       "      <td>Ragout With Farfalle Gets a Touch of Green</td>\n",
       "      <td>56143f92798810321b0fac91</td>\n",
       "      <td>Dining</td>\n",
       "      <td>The sweet taste and texture of broccoli leaves...</td>\n",
       "      <td>Food</td>\n",
       "      <td>NaN</td>\n",
       "      <td>Ragout With Farfalle Gets a Touch of Green The...</td>\n",
       "      <td>News</td>\n",
       "    </tr>\n",
       "  </tbody>\n",
       "</table>\n",
       "</div>"
      ],
      "text/plain": [
       "   Unnamed: 0                                           abstract        date  doctype                                           headline                        id news_desk                                          paragraph     section subsection                                               text   type\n",
       "0           0                                                NaN  2015-11-03  article    Know Your Risks, but Meat Still Isnt the Enemy  56374e0a798810408f299696    Upshot  The link between processed meat and cancer is ...  The Upshot        NaN  Know Your Risks, but Meat Still Isnt the Enem...   News\n",
       "1           1  Study in journal The Lancet concludes Chinese ...  2015-10-13  article          Study Shows Spread of Cigarettes in China  561bc3a67988101d11e0da9e   Science  Chinese men smoke one-third of all the worlds...      Health        NaN  Study Shows Spread of Cigarettes in China Chin...   News\n",
       "2           2  Food and Drug Administration approves Narcan n...  2015-11-19  article  F.D.A. Approves a Nasal Spray to Combat Opioid...  564d433579881039a958bb07  National  A nasal spray designed to reverse opioid overd...        U.S.        NaN  F.D.A. Approves a Nasal Spray to Combat Opioid...  Brief\n",
       "3           3                                                NaN  2015-11-17  article  How to Decrease Prices for an Expensive Class ...  5649c243798810095961385d    Upshot  Two professors suggest requiring biologic manu...  The Upshot        NaN  How to Decrease Prices for an Expensive Class ...   News\n",
       "4           4                                                NaN  2015-10-07  article         Ragout With Farfalle Gets a Touch of Green  56143f92798810321b0fac91    Dining  The sweet taste and texture of broccoli leaves...        Food        NaN  Ragout With Farfalle Gets a Touch of Green The...   News"
      ]
     },
     "execution_count": 9,
     "metadata": {},
     "output_type": "execute_result"
    }
   ],
   "source": [
    "docsdf = pd.read_csv(\"docsdf100-2.csv\", encoding = \"ISO-8859-1\")\n",
    "docsdf.head()\n",
    "\n",
    "#http://stackoverflow.com/questions/18171739/unicodedecodeerror-win-reading-csv-file-in-pandas-with-python\n",
    "#http://stackoverflow.com/questions/24616678/unicodedecodeerror-in-python-when-reading-a-file-how-to-ignore-the-error-and-ju"
   ]
  },
  {
   "cell_type": "code",
   "execution_count": 115,
   "metadata": {
    "collapsed": false
   },
   "outputs": [
    {
     "name": "stdout",
     "output_type": "stream",
     "text": [
      "ok\n"
     ]
    }
   ],
   "source": [
    "#solving keyerror issue for headline\n",
    "\n",
    "ex = {'main': 'words', 'kicker': 'stuff'}\n",
    "if ex.get('name') is None:\n",
    "    print('ok')\n",
    "\n",
    "#http://stackoverflow.com/questions/6130768/return-none-if-dictionary-key-is-not-available"
   ]
  },
  {
   "cell_type": "code",
   "execution_count": null,
   "metadata": {
    "collapsed": true
   },
   "outputs": [],
   "source": []
  }
 ],
 "metadata": {
  "kernelspec": {
   "display_name": "Python 3",
   "language": "python",
   "name": "python3"
  },
  "language_info": {
   "codemirror_mode": {
    "name": "ipython",
    "version": 3
   },
   "file_extension": ".py",
   "mimetype": "text/x-python",
   "name": "python",
   "nbconvert_exporter": "python",
   "pygments_lexer": "ipython3",
   "version": "3.5.0"
  }
 },
 "nbformat": 4,
 "nbformat_minor": 0
}
