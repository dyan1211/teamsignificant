{
 "cells": [
  {
   "cell_type": "code",
   "execution_count": 1,
   "metadata": {
    "collapsed": false
   },
   "outputs": [
    {
     "ename": "ImportError",
     "evalue": "No module named 'seaborn'",
     "output_type": "error",
     "traceback": [
      "\u001b[1;31m---------------------------------------------------------------------------\u001b[0m",
      "\u001b[1;31mImportError\u001b[0m                               Traceback (most recent call last)",
      "\u001b[1;32m<ipython-input-1-f9b346e43c9d>\u001b[0m in \u001b[0;36m<module>\u001b[1;34m()\u001b[0m\n\u001b[0;32m      9\u001b[0m \u001b[0mpd\u001b[0m\u001b[1;33m.\u001b[0m\u001b[0mset_option\u001b[0m\u001b[1;33m(\u001b[0m\u001b[1;34m'display.max_columns'\u001b[0m\u001b[1;33m,\u001b[0m \u001b[1;36m100\u001b[0m\u001b[1;33m)\u001b[0m\u001b[1;33m\u001b[0m\u001b[0m\n\u001b[0;32m     10\u001b[0m \u001b[0mpd\u001b[0m\u001b[1;33m.\u001b[0m\u001b[0mset_option\u001b[0m\u001b[1;33m(\u001b[0m\u001b[1;34m'display.notebook_repr_html'\u001b[0m\u001b[1;33m,\u001b[0m \u001b[1;32mTrue\u001b[0m\u001b[1;33m)\u001b[0m\u001b[1;33m\u001b[0m\u001b[0m\n\u001b[1;32m---> 11\u001b[1;33m \u001b[1;32mimport\u001b[0m \u001b[0mseaborn\u001b[0m \u001b[1;32mas\u001b[0m \u001b[0msns\u001b[0m\u001b[1;33m\u001b[0m\u001b[0m\n\u001b[0m\u001b[0;32m     12\u001b[0m \u001b[0msns\u001b[0m\u001b[1;33m.\u001b[0m\u001b[0mset_style\u001b[0m\u001b[1;33m(\u001b[0m\u001b[1;34m\"whitegrid\"\u001b[0m\u001b[1;33m)\u001b[0m\u001b[1;33m\u001b[0m\u001b[0m\n\u001b[0;32m     13\u001b[0m \u001b[0msns\u001b[0m\u001b[1;33m.\u001b[0m\u001b[0mset_context\u001b[0m\u001b[1;33m(\u001b[0m\u001b[1;34m\"poster\"\u001b[0m\u001b[1;33m)\u001b[0m\u001b[1;33m\u001b[0m\u001b[0m\n",
      "\u001b[1;31mImportError\u001b[0m: No module named 'seaborn'"
     ]
    }
   ],
   "source": [
    "%matplotlib inline\n",
    "import numpy as np\n",
    "import scipy as sp\n",
    "import matplotlib as mpl\n",
    "import matplotlib.cm as cm\n",
    "import matplotlib.pyplot as plt\n",
    "import pandas as pd\n",
    "pd.set_option('display.width', 500)\n",
    "pd.set_option('display.max_columns', 100)\n",
    "pd.set_option('display.notebook_repr_html', True)\n",
    "import seaborn as sns\n",
    "sns.set_style(\"whitegrid\")\n",
    "sns.set_context(\"poster\")"
   ]
  },
  {
   "cell_type": "code",
   "execution_count": 2,
   "metadata": {
    "collapsed": true
   },
   "outputs": [],
   "source": [
    "import requests\n",
    "import time\n",
    "import json"
   ]
  },
  {
   "cell_type": "code",
   "execution_count": 45,
   "metadata": {
    "collapsed": false
   },
   "outputs": [],
   "source": [
    "docs=[]\n",
    "n = 100 #number of pages\n",
    "\n",
    "#get first 100 pages of json dictionaries\n",
    "for i in range(1,n+1): \n",
    "    url = \"http://api.nytimes.com/svc/search/v2/articlesearch.json?fq=news_desk:Health&page=%d&api-key=5cdab36b05348a4da2e74046dfb16a03:17:73541790\" % i\n",
    "    page = requests.get(url)\n",
    "    pagedocs = page.json()['response']['docs']\n",
    "    time.sleep(1)\n",
    "    \n",
    "    #append each separate dictionary from a page to docs\n",
    "    for j in range(0,len(pagedocs)):\n",
    "        docs.append(pagedocs[j])"
   ]
  },
  {
   "cell_type": "code",
   "execution_count": 46,
   "metadata": {
    "collapsed": false
   },
   "outputs": [],
   "source": [
    "fd=open(\"nytdocs100.json\",\"w\")\n",
    "json.dump(docs, fd)\n",
    "fd.close()"
   ]
  },
  {
   "cell_type": "code",
   "execution_count": 48,
   "metadata": {
    "collapsed": false
   },
   "outputs": [],
   "source": [
    "docsinfo = []\n",
    "for d in docs:\n",
    "    obs = {}\n",
    "    obs['id'] = d['_id']\n",
    "    obs['type'] = d['type_of_material']\n",
    "    obs['date'] = d['pub_date'][0:10]\n",
    "    obs['headline'] = d['headline']['main']\n",
    "    obs['abstract'] = d['abstract']\n",
    "    obs['paragraph'] = d['lead_paragraph']\n",
    "    \n",
    "    #Take out abstracts and lead paragraphs with none to join text\n",
    "    if obs['abstract'] is None:\n",
    "        a = ' '\n",
    "    else: \n",
    "        a = obs['abstract']\n",
    "    if obs['paragraph'] == 'TK TK TK' or obs['paragraph'] is None:\n",
    "        p = ' '\n",
    "    else:\n",
    "        p = obs['paragraph']\n",
    "    \n",
    "    text = [obs['headline'], p, a]\n",
    "    obs['text'] = \" \".join(text)\n",
    "    \n",
    "    docsinfo.append(obs)"
   ]
  },
  {
   "cell_type": "code",
   "execution_count": 49,
   "metadata": {
    "collapsed": false
   },
   "outputs": [
    {
     "data": {
      "text/html": [
       "<div>\n",
       "<table border=\"1\" class=\"dataframe\">\n",
       "  <thead>\n",
       "    <tr style=\"text-align: right;\">\n",
       "      <th></th>\n",
       "      <th>abstract</th>\n",
       "      <th>date</th>\n",
       "      <th>headline</th>\n",
       "      <th>id</th>\n",
       "      <th>paragraph</th>\n",
       "      <th>text</th>\n",
       "      <th>type</th>\n",
       "    </tr>\n",
       "  </thead>\n",
       "  <tbody>\n",
       "    <tr>\n",
       "      <th>0</th>\n",
       "      <td>None</td>\n",
       "      <td>2015-09-08</td>\n",
       "      <td>DNA’s Defenses</td>\n",
       "      <td>55ef25127988104d070a17db</td>\n",
       "      <td>Evelyn M. Witkin and Stephen J. Elledge receiv...</td>\n",
       "      <td>DNA’s Defenses Evelyn M. Witkin and Stephen J....</td>\n",
       "      <td>Video</td>\n",
       "    </tr>\n",
       "    <tr>\n",
       "      <th>1</th>\n",
       "      <td>None</td>\n",
       "      <td>2015-09-08</td>\n",
       "      <td>On the Front Lines of an Outbreak</td>\n",
       "      <td>55ef250f7988104d070a17d8</td>\n",
       "      <td>Doctors Without Borders received a Lasker awar...</td>\n",
       "      <td>On the Front Lines of an Outbreak Doctors With...</td>\n",
       "      <td>Video</td>\n",
       "    </tr>\n",
       "    <tr>\n",
       "      <th>2</th>\n",
       "      <td>None</td>\n",
       "      <td>2015-08-31</td>\n",
       "      <td>Born in Chiapas</td>\n",
       "      <td>55e49d1e7988100a53ed5e6c</td>\n",
       "      <td>A look at the traditional midwife in southern ...</td>\n",
       "      <td>Born in Chiapas A look at the traditional midw...</td>\n",
       "      <td>Slideshow</td>\n",
       "    </tr>\n",
       "    <tr>\n",
       "      <th>3</th>\n",
       "      <td>None</td>\n",
       "      <td>2015-07-20</td>\n",
       "      <td>The Weekly Health Quiz</td>\n",
       "      <td>52cbfb1a7988100c7a2bc5f7</td>\n",
       "      <td>In the news: nail polish dangers, distracted d...</td>\n",
       "      <td>The Weekly Health Quiz In the news: nail polis...</td>\n",
       "      <td>Interactive Feature</td>\n",
       "    </tr>\n",
       "    <tr>\n",
       "      <th>4</th>\n",
       "      <td>None</td>\n",
       "      <td>2015-07-20</td>\n",
       "      <td>Paying Till It Hurts</td>\n",
       "      <td>535155ad798810363105db65</td>\n",
       "      <td>A series of articles by the New York Times cor...</td>\n",
       "      <td>Paying Till It Hurts A series of articles by t...</td>\n",
       "      <td>Interactive Feature</td>\n",
       "    </tr>\n",
       "  </tbody>\n",
       "</table>\n",
       "</div>"
      ],
      "text/plain": [
       "  abstract        date                           headline                        id                                          paragraph                                               text                 type\n",
       "0     None  2015-09-08                     DNA’s Defenses  55ef25127988104d070a17db  Evelyn M. Witkin and Stephen J. Elledge receiv...  DNA’s Defenses Evelyn M. Witkin and Stephen J....                Video\n",
       "1     None  2015-09-08  On the Front Lines of an Outbreak  55ef250f7988104d070a17d8  Doctors Without Borders received a Lasker awar...  On the Front Lines of an Outbreak Doctors With...                Video\n",
       "2     None  2015-08-31                    Born in Chiapas  55e49d1e7988100a53ed5e6c  A look at the traditional midwife in southern ...  Born in Chiapas A look at the traditional midw...            Slideshow\n",
       "3     None  2015-07-20             The Weekly Health Quiz  52cbfb1a7988100c7a2bc5f7  In the news: nail polish dangers, distracted d...  The Weekly Health Quiz In the news: nail polis...  Interactive Feature\n",
       "4     None  2015-07-20               Paying Till It Hurts  535155ad798810363105db65  A series of articles by the New York Times cor...  Paying Till It Hurts A series of articles by t...  Interactive Feature"
      ]
     },
     "execution_count": 49,
     "metadata": {},
     "output_type": "execute_result"
    }
   ],
   "source": [
    "docsdf = pd.DataFrame(docsinfo)\n",
    "docsdf.head()"
   ]
  },
  {
   "cell_type": "code",
   "execution_count": 53,
   "metadata": {
    "collapsed": false
   },
   "outputs": [
    {
     "data": {
      "text/plain": [
       "(792, 7)"
      ]
     },
     "execution_count": 53,
     "metadata": {},
     "output_type": "execute_result"
    }
   ],
   "source": [
    "docsdf.shape"
   ]
  },
  {
   "cell_type": "code",
   "execution_count": 55,
   "metadata": {
    "collapsed": false
   },
   "outputs": [
    {
     "data": {
      "text/plain": [
       "abstract     object\n",
       "date         object\n",
       "headline     object\n",
       "id           object\n",
       "paragraph    object\n",
       "text         object\n",
       "type         object\n",
       "dtype: object"
      ]
     },
     "execution_count": 55,
     "metadata": {},
     "output_type": "execute_result"
    }
   ],
   "source": [
    "docsdf.dtypes"
   ]
  },
  {
   "cell_type": "markdown",
   "metadata": {},
   "source": [
    "Make date column a date type\n",
    "\n",
    "http://stackoverflow.com/questions/9504356/convert-string-into-date-type-on-python\n",
    "\n",
    "http://stackoverflow.com/questions/16852911/how-do-i-convert-dates-in-a-pandas-data-frame-to-a-date-data-type  ***"
   ]
  },
  {
   "cell_type": "code",
   "execution_count": 60,
   "metadata": {
    "collapsed": false
   },
   "outputs": [
    {
     "data": {
      "text/html": [
       "<div>\n",
       "<table border=\"1\" class=\"dataframe\">\n",
       "  <thead>\n",
       "    <tr style=\"text-align: right;\">\n",
       "      <th></th>\n",
       "      <th>abstract</th>\n",
       "      <th>date</th>\n",
       "      <th>headline</th>\n",
       "      <th>id</th>\n",
       "      <th>paragraph</th>\n",
       "      <th>text</th>\n",
       "      <th>type</th>\n",
       "    </tr>\n",
       "  </thead>\n",
       "  <tbody>\n",
       "    <tr>\n",
       "      <th>0</th>\n",
       "      <td>None</td>\n",
       "      <td>2015-09-08</td>\n",
       "      <td>DNA’s Defenses</td>\n",
       "      <td>55ef25127988104d070a17db</td>\n",
       "      <td>Evelyn M. Witkin and Stephen J. Elledge receiv...</td>\n",
       "      <td>DNA’s Defenses Evelyn M. Witkin and Stephen J....</td>\n",
       "      <td>Video</td>\n",
       "    </tr>\n",
       "    <tr>\n",
       "      <th>1</th>\n",
       "      <td>None</td>\n",
       "      <td>2015-09-08</td>\n",
       "      <td>On the Front Lines of an Outbreak</td>\n",
       "      <td>55ef250f7988104d070a17d8</td>\n",
       "      <td>Doctors Without Borders received a Lasker awar...</td>\n",
       "      <td>On the Front Lines of an Outbreak Doctors With...</td>\n",
       "      <td>Video</td>\n",
       "    </tr>\n",
       "    <tr>\n",
       "      <th>2</th>\n",
       "      <td>None</td>\n",
       "      <td>2015-08-31</td>\n",
       "      <td>Born in Chiapas</td>\n",
       "      <td>55e49d1e7988100a53ed5e6c</td>\n",
       "      <td>A look at the traditional midwife in southern ...</td>\n",
       "      <td>Born in Chiapas A look at the traditional midw...</td>\n",
       "      <td>Slideshow</td>\n",
       "    </tr>\n",
       "    <tr>\n",
       "      <th>3</th>\n",
       "      <td>None</td>\n",
       "      <td>2015-07-20</td>\n",
       "      <td>The Weekly Health Quiz</td>\n",
       "      <td>52cbfb1a7988100c7a2bc5f7</td>\n",
       "      <td>In the news: nail polish dangers, distracted d...</td>\n",
       "      <td>The Weekly Health Quiz In the news: nail polis...</td>\n",
       "      <td>Interactive Feature</td>\n",
       "    </tr>\n",
       "    <tr>\n",
       "      <th>4</th>\n",
       "      <td>None</td>\n",
       "      <td>2015-07-20</td>\n",
       "      <td>Paying Till It Hurts</td>\n",
       "      <td>535155ad798810363105db65</td>\n",
       "      <td>A series of articles by the New York Times cor...</td>\n",
       "      <td>Paying Till It Hurts A series of articles by t...</td>\n",
       "      <td>Interactive Feature</td>\n",
       "    </tr>\n",
       "  </tbody>\n",
       "</table>\n",
       "</div>"
      ],
      "text/plain": [
       "  abstract       date                           headline                        id                                          paragraph                                               text                 type\n",
       "0     None 2015-09-08                     DNA’s Defenses  55ef25127988104d070a17db  Evelyn M. Witkin and Stephen J. Elledge receiv...  DNA’s Defenses Evelyn M. Witkin and Stephen J....                Video\n",
       "1     None 2015-09-08  On the Front Lines of an Outbreak  55ef250f7988104d070a17d8  Doctors Without Borders received a Lasker awar...  On the Front Lines of an Outbreak Doctors With...                Video\n",
       "2     None 2015-08-31                    Born in Chiapas  55e49d1e7988100a53ed5e6c  A look at the traditional midwife in southern ...  Born in Chiapas A look at the traditional midw...            Slideshow\n",
       "3     None 2015-07-20             The Weekly Health Quiz  52cbfb1a7988100c7a2bc5f7  In the news: nail polish dangers, distracted d...  The Weekly Health Quiz In the news: nail polis...  Interactive Feature\n",
       "4     None 2015-07-20               Paying Till It Hurts  535155ad798810363105db65  A series of articles by the New York Times cor...  Paying Till It Hurts A series of articles by t...  Interactive Feature"
      ]
     },
     "execution_count": 60,
     "metadata": {},
     "output_type": "execute_result"
    }
   ],
   "source": [
    "docsdf['date'] = pd.to_datetime(docsdf['date'])\n",
    "docsdf.head()"
   ]
  },
  {
   "cell_type": "code",
   "execution_count": 61,
   "metadata": {
    "collapsed": false
   },
   "outputs": [
    {
     "data": {
      "text/plain": [
       "abstract             object\n",
       "date         datetime64[ns]\n",
       "headline             object\n",
       "id                   object\n",
       "paragraph            object\n",
       "text                 object\n",
       "type                 object\n",
       "dtype: object"
      ]
     },
     "execution_count": 61,
     "metadata": {},
     "output_type": "execute_result"
    }
   ],
   "source": [
    "docsdf.dtypes"
   ]
  },
  {
   "cell_type": "code",
   "execution_count": 1,
   "metadata": {
    "collapsed": false
   },
   "outputs": [
    {
     "ename": "NameError",
     "evalue": "name 'docsdf' is not defined",
     "output_type": "error",
     "traceback": [
      "\u001b[1;31m---------------------------------------------------------------------------\u001b[0m",
      "\u001b[1;31mNameError\u001b[0m                                 Traceback (most recent call last)",
      "\u001b[1;32m<ipython-input-1-6d4c86336861>\u001b[0m in \u001b[0;36m<module>\u001b[1;34m()\u001b[0m\n\u001b[1;32m----> 1\u001b[1;33m \u001b[0mdocsdf\u001b[0m\u001b[1;33m.\u001b[0m\u001b[0mto_csv\u001b[0m\u001b[1;33m(\u001b[0m\u001b[1;34m\"docsdf100.csv\"\u001b[0m\u001b[1;33m)\u001b[0m\u001b[1;33m\u001b[0m\u001b[0m\n\u001b[0m",
      "\u001b[1;31mNameError\u001b[0m: name 'docsdf' is not defined"
     ]
    }
   ],
   "source": [
    "docsdf.to_csv(\"docsdf100.csv\")"
   ]
  },
  {
   "cell_type": "code",
   "execution_count": null,
   "metadata": {
    "collapsed": true
   },
   "outputs": [],
   "source": []
  }
 ],
 "metadata": {
  "kernelspec": {
   "display_name": "Python 3",
   "language": "python",
   "name": "python3"
  },
  "language_info": {
   "codemirror_mode": {
    "name": "ipython",
    "version": 3
   },
   "file_extension": ".py",
   "mimetype": "text/x-python",
   "name": "python",
   "nbconvert_exporter": "python",
   "pygments_lexer": "ipython3",
   "version": "3.5.0"
  }
 },
 "nbformat": 4,
 "nbformat_minor": 0
}
