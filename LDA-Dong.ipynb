{
 "cells": [
  {
   "cell_type": "code",
   "execution_count": 1,
   "metadata": {
    "collapsed": true
   },
   "outputs": [],
   "source": [
    "%matplotlib inline\n",
    "import numpy as np\n",
    "import scipy as sp\n",
    "import matplotlib as mpl\n",
    "import matplotlib.cm as cm\n",
    "import matplotlib.pyplot as plt\n",
    "import pandas as pd\n",
    "pd.set_option('display.width', 500)\n",
    "pd.set_option('display.max_columns', 100)\n",
    "pd.set_option('display.notebook_repr_html', True)\n",
    "import seaborn as sns\n",
    "sns.set_style(\"whitegrid\")\n",
    "sns.set_context(\"poster\")"
   ]
  },
  {
   "cell_type": "code",
   "execution_count": 2,
   "metadata": {
    "collapsed": true
   },
   "outputs": [],
   "source": [
    "import os\n",
    "os.environ['PYSPARK_PYTHON'] = '/Applications/anaconda/bin/python'"
   ]
  },
  {
   "cell_type": "code",
   "execution_count": 3,
   "metadata": {
    "collapsed": false
   },
   "outputs": [
    {
     "name": "stdout",
     "output_type": "stream",
     "text": [
      "/usr/local/opt/apache-spark/libexec\n"
     ]
    }
   ],
   "source": [
    "import findspark\n",
    "findspark.init()\n",
    "print findspark.find()"
   ]
  },
  {
   "cell_type": "code",
   "execution_count": 4,
   "metadata": {
    "collapsed": true
   },
   "outputs": [],
   "source": [
    "import pyspark\n",
    "conf = (pyspark.SparkConf()\n",
    "    .setMaster('local')\n",
    "    .setAppName('pyspark')\n",
    "    .set(\"spark.executor.memory\", \"2g\"))\n",
    "sc = pyspark.SparkContext(conf=conf)"
   ]
  },
  {
   "cell_type": "code",
   "execution_count": 5,
   "metadata": {
    "collapsed": false
   },
   "outputs": [
    {
     "data": {
      "text/plain": [
       "['2.7.10 |Anaconda 2.4.0 (x86_64)| (default, Oct 19 2015, 18:31:17) \\n[GCC 4.2.1 (Apple Inc. build 5577)]',\n",
       " '2.7.10 |Anaconda 2.4.0 (x86_64)| (default, Oct 19 2015, 18:31:17) \\n[GCC 4.2.1 (Apple Inc. build 5577)]',\n",
       " '2.7.10 |Anaconda 2.4.0 (x86_64)| (default, Oct 19 2015, 18:31:17) \\n[GCC 4.2.1 (Apple Inc. build 5577)]',\n",
       " '2.7.10 |Anaconda 2.4.0 (x86_64)| (default, Oct 19 2015, 18:31:17) \\n[GCC 4.2.1 (Apple Inc. build 5577)]',\n",
       " '2.7.10 |Anaconda 2.4.0 (x86_64)| (default, Oct 19 2015, 18:31:17) \\n[GCC 4.2.1 (Apple Inc. build 5577)]',\n",
       " '2.7.10 |Anaconda 2.4.0 (x86_64)| (default, Oct 19 2015, 18:31:17) \\n[GCC 4.2.1 (Apple Inc. build 5577)]',\n",
       " '2.7.10 |Anaconda 2.4.0 (x86_64)| (default, Oct 19 2015, 18:31:17) \\n[GCC 4.2.1 (Apple Inc. build 5577)]',\n",
       " '2.7.10 |Anaconda 2.4.0 (x86_64)| (default, Oct 19 2015, 18:31:17) \\n[GCC 4.2.1 (Apple Inc. build 5577)]',\n",
       " '2.7.10 |Anaconda 2.4.0 (x86_64)| (default, Oct 19 2015, 18:31:17) \\n[GCC 4.2.1 (Apple Inc. build 5577)]',\n",
       " '2.7.10 |Anaconda 2.4.0 (x86_64)| (default, Oct 19 2015, 18:31:17) \\n[GCC 4.2.1 (Apple Inc. build 5577)]']"
      ]
     },
     "execution_count": 5,
     "metadata": {},
     "output_type": "execute_result"
    }
   ],
   "source": [
    "import sys\n",
    "rdd = sc.parallelize(xrange(10),10)\n",
    "rdd.map(lambda x: sys.version).collect()"
   ]
  },
  {
   "cell_type": "code",
   "execution_count": 6,
   "metadata": {
    "collapsed": false
   },
   "outputs": [
    {
     "data": {
      "text/plain": [
       "'2.7.10 |Anaconda 2.4.0 (x86_64)| (default, Oct 19 2015, 18:31:17) \\n[GCC 4.2.1 (Apple Inc. build 5577)]'"
      ]
     },
     "execution_count": 6,
     "metadata": {},
     "output_type": "execute_result"
    }
   ],
   "source": [
    "sys.version"
   ]
  },
  {
   "cell_type": "code",
   "execution_count": 7,
   "metadata": {
    "collapsed": true
   },
   "outputs": [],
   "source": [
    "from pyspark.sql import SQLContext\n",
    "sqlsc=SQLContext(sc)"
   ]
  },
  {
   "cell_type": "markdown",
   "metadata": {},
   "source": [
    "### Read data"
   ]
  },
  {
   "cell_type": "code",
   "execution_count": 14,
   "metadata": {
    "collapsed": false
   },
   "outputs": [],
   "source": [
    "frames = []\n",
    "for i in range(1,20) : \n",
    "    dfs = pd.read_csv(\"2015data/docsdf-\"+str(i)+\".csv\")\n",
    "    frames.append(dfs)\n",
    "df = pd.concat(frames)"
   ]
  },
  {
   "cell_type": "code",
   "execution_count": 22,
   "metadata": {
    "collapsed": false
   },
   "outputs": [
    {
     "data": {
      "text/html": [
       "<div>\n",
       "<table border=\"1\" class=\"dataframe\">\n",
       "  <thead>\n",
       "    <tr style=\"text-align: right;\">\n",
       "      <th></th>\n",
       "      <th>Unnamed: 0</th>\n",
       "      <th>abstract</th>\n",
       "      <th>date</th>\n",
       "      <th>doctype</th>\n",
       "      <th>headline</th>\n",
       "      <th>id</th>\n",
       "      <th>news_desk</th>\n",
       "      <th>paragraph</th>\n",
       "      <th>section</th>\n",
       "      <th>subsection</th>\n",
       "      <th>text</th>\n",
       "      <th>type</th>\n",
       "    </tr>\n",
       "  </thead>\n",
       "  <tbody>\n",
       "    <tr>\n",
       "      <th>0</th>\n",
       "      <td>0</td>\n",
       "      <td>NaN</td>\n",
       "      <td>2015-10-20</td>\n",
       "      <td>article</td>\n",
       "      <td>To Reduce the Cost of Drugs, Look to Europe</td>\n",
       "      <td>5624cb2279881072a18d3b60</td>\n",
       "      <td>Upshot</td>\n",
       "      <td>A system called reference pricing, used in sev...</td>\n",
       "      <td>The Upshot</td>\n",
       "      <td>NaN</td>\n",
       "      <td>To Reduce the Cost of Drugs, Look to Europe A ...</td>\n",
       "      <td>News</td>\n",
       "    </tr>\n",
       "    <tr>\n",
       "      <th>1</th>\n",
       "      <td>1</td>\n",
       "      <td>Editorial reviews recent report by World Healt...</td>\n",
       "      <td>2015-10-28</td>\n",
       "      <td>article</td>\n",
       "      <td>Meat as a Cause of Cancer</td>\n",
       "      <td>56307762798810310043c222</td>\n",
       "      <td>Editorial</td>\n",
       "      <td>A recent report provides persuasive evidence t...</td>\n",
       "      <td>Opinion</td>\n",
       "      <td>NaN</td>\n",
       "      <td>Meat as a Cause of Cancer A recent report prov...</td>\n",
       "      <td>Editorial</td>\n",
       "    </tr>\n",
       "    <tr>\n",
       "      <th>2</th>\n",
       "      <td>2</td>\n",
       "      <td>NaN</td>\n",
       "      <td>2015-10-26</td>\n",
       "      <td>multimedia</td>\n",
       "      <td>Meat and Cancer: The W.H.O. Report and What Yo...</td>\n",
       "      <td>562e978e79881079d8f744f4</td>\n",
       "      <td>Health</td>\n",
       "      <td>Answers to a few questions about a report that...</td>\n",
       "      <td>Health</td>\n",
       "      <td>NaN</td>\n",
       "      <td>Meat and Cancer: The W.H.O. Report and What Yo...</td>\n",
       "      <td>Interactive Feature</td>\n",
       "    </tr>\n",
       "    <tr>\n",
       "      <th>3</th>\n",
       "      <td>3</td>\n",
       "      <td>World Health Organization scientists recommend...</td>\n",
       "      <td>2015-10-24</td>\n",
       "      <td>article</td>\n",
       "      <td>W.H.O. Panel Backs Polio Vaccine With Just 2 S...</td>\n",
       "      <td>562acef679881010ffa5f64d</td>\n",
       "      <td>Foreign</td>\n",
       "      <td>The scientists also recommended that infants a...</td>\n",
       "      <td>World</td>\n",
       "      <td>NaN</td>\n",
       "      <td>W.H.O. Panel Backs Polio Vaccine With Just 2 S...</td>\n",
       "      <td>Brief</td>\n",
       "    </tr>\n",
       "    <tr>\n",
       "      <th>4</th>\n",
       "      <td>4</td>\n",
       "      <td>NaN</td>\n",
       "      <td>2015-10-24</td>\n",
       "      <td>article</td>\n",
       "      <td>Egg Donor Payments</td>\n",
       "      <td>562ac28379881010ffa5f637</td>\n",
       "      <td>Letters</td>\n",
       "      <td>A bioethicist writes that eliminating all guid...</td>\n",
       "      <td>Opinion</td>\n",
       "      <td>NaN</td>\n",
       "      <td>Egg Donor Payments A bioethicist writes that e...</td>\n",
       "      <td>Letter</td>\n",
       "    </tr>\n",
       "  </tbody>\n",
       "</table>\n",
       "</div>"
      ],
      "text/plain": [
       "   Unnamed: 0                                           abstract        date     doctype                                           headline                        id  news_desk                                          paragraph     section subsection                                               text                 type\n",
       "0           0                                                NaN  2015-10-20     article        To Reduce the Cost of Drugs, Look to Europe  5624cb2279881072a18d3b60     Upshot  A system called reference pricing, used in sev...  The Upshot        NaN  To Reduce the Cost of Drugs, Look to Europe A ...                 News\n",
       "1           1  Editorial reviews recent report by World Healt...  2015-10-28     article                          Meat as a Cause of Cancer  56307762798810310043c222  Editorial  A recent report provides persuasive evidence t...     Opinion        NaN  Meat as a Cause of Cancer A recent report prov...            Editorial\n",
       "2           2                                                NaN  2015-10-26  multimedia  Meat and Cancer: The W.H.O. Report and What Yo...  562e978e79881079d8f744f4     Health  Answers to a few questions about a report that...      Health        NaN  Meat and Cancer: The W.H.O. Report and What Yo...  Interactive Feature\n",
       "3           3  World Health Organization scientists recommend...  2015-10-24     article  W.H.O. Panel Backs Polio Vaccine With Just 2 S...  562acef679881010ffa5f64d    Foreign  The scientists also recommended that infants a...       World        NaN  W.H.O. Panel Backs Polio Vaccine With Just 2 S...                Brief\n",
       "4           4                                                NaN  2015-10-24     article                                 Egg Donor Payments  562ac28379881010ffa5f637    Letters  A bioethicist writes that eliminating all guid...     Opinion        NaN  Egg Donor Payments A bioethicist writes that e...               Letter"
      ]
     },
     "execution_count": 22,
     "metadata": {},
     "output_type": "execute_result"
    }
   ],
   "source": [
    "df.head()"
   ]
  },
  {
   "cell_type": "code",
   "execution_count": 46,
   "metadata": {
    "collapsed": false
   },
   "outputs": [
    {
     "data": {
      "text/plain": [
       "(17936, 12)"
      ]
     },
     "execution_count": 46,
     "metadata": {},
     "output_type": "execute_result"
    }
   ],
   "source": [
    "df.shape"
   ]
  },
  {
   "cell_type": "code",
   "execution_count": 63,
   "metadata": {
    "collapsed": false
   },
   "outputs": [
    {
     "data": {
      "text/plain": [
       "0"
      ]
     },
     "execution_count": 63,
     "metadata": {},
     "output_type": "execute_result"
    }
   ],
   "source": [
    "sum(df['date'] == 'NaN')"
   ]
  },
  {
   "cell_type": "code",
   "execution_count": 66,
   "metadata": {
    "collapsed": false
   },
   "outputs": [
    {
     "data": {
      "text/plain": [
       "0"
      ]
     },
     "execution_count": 66,
     "metadata": {},
     "output_type": "execute_result"
    }
   ],
   "source": [
    "sum(df['doctype'] == 'topic')"
   ]
  },
  {
   "cell_type": "code",
   "execution_count": 78,
   "metadata": {
    "collapsed": false
   },
   "outputs": [
    {
     "name": "stderr",
     "output_type": "stream",
     "text": [
      "/Applications/anaconda/lib/python2.7/site-packages/ipykernel/__main__.py:2: FutureWarning: in the future, boolean array-likes will be handled as a boolean array index\n",
      "  from ipykernel import kernelapp as app\n"
     ]
    }
   ],
   "source": [
    "mask = np.ones(len(df), dtype='int')\n",
    "mask[df['date'] == 'NaN'] = 0\n",
    "mask = (mask == 1)"
   ]
  },
  {
   "cell_type": "code",
   "execution_count": 79,
   "metadata": {
    "collapsed": false
   },
   "outputs": [
    {
     "data": {
      "text/plain": [
       "array([False,  True,  True, ...,  True,  True,  True], dtype=bool)"
      ]
     },
     "execution_count": 79,
     "metadata": {},
     "output_type": "execute_result"
    }
   ],
   "source": [
    "mask"
   ]
  },
  {
   "cell_type": "code",
   "execution_count": 80,
   "metadata": {
    "collapsed": false
   },
   "outputs": [],
   "source": [
    "df_date = df[mask]"
   ]
  },
  {
   "cell_type": "code",
   "execution_count": 77,
   "metadata": {
    "collapsed": false
   },
   "outputs": [
    {
     "data": {
      "text/plain": [
       "(17935, 12)"
      ]
     },
     "execution_count": 77,
     "metadata": {},
     "output_type": "execute_result"
    }
   ],
   "source": [
    "df_date.shape"
   ]
  },
  {
   "cell_type": "markdown",
   "metadata": {},
   "source": [
    "### Clean data"
   ]
  },
  {
   "cell_type": "code",
   "execution_count": 17,
   "metadata": {
    "collapsed": false
   },
   "outputs": [
    {
     "data": {
      "text/plain": [
       "Unnamed: 0     int64\n",
       "abstract      object\n",
       "date          object\n",
       "doctype       object\n",
       "headline      object\n",
       "id            object\n",
       "news_desk     object\n",
       "paragraph     object\n",
       "section       object\n",
       "subsection    object\n",
       "text          object\n",
       "type          object\n",
       "dtype: object"
      ]
     },
     "execution_count": 17,
     "metadata": {},
     "output_type": "execute_result"
    }
   ],
   "source": [
    "df.dtypes"
   ]
  },
  {
   "cell_type": "code",
   "execution_count": 23,
   "metadata": {
    "collapsed": true
   },
   "outputs": [],
   "source": [
    "df['date'] = pd.to_datetime(df['date'])"
   ]
  },
  {
   "cell_type": "code",
   "execution_count": 24,
   "metadata": {
    "collapsed": false
   },
   "outputs": [
    {
     "data": {
      "text/plain": [
       "Unnamed: 0             int64\n",
       "abstract              object\n",
       "date          datetime64[ns]\n",
       "doctype               object\n",
       "headline              object\n",
       "id                    object\n",
       "news_desk             object\n",
       "paragraph             object\n",
       "section               object\n",
       "subsection            object\n",
       "text                  object\n",
       "type                  object\n",
       "dtype: object"
      ]
     },
     "execution_count": 24,
     "metadata": {},
     "output_type": "execute_result"
    }
   ],
   "source": [
    "df.dtypes"
   ]
  },
  {
   "cell_type": "markdown",
   "metadata": {},
   "source": [
    "# get rid of common words??"
   ]
  },
  {
   "cell_type": "markdown",
   "metadata": {},
   "source": [
    "### LDA"
   ]
  },
  {
   "cell_type": "code",
   "execution_count": 25,
   "metadata": {
    "collapsed": true
   },
   "outputs": [],
   "source": [
    "from pattern.en import parse\n",
    "from pattern.en import pprint\n",
    "from pattern.vector import stem, PORTER, LEMMA\n",
    "punctuation = list('.,;:!?()[]{}`''\\\"@#$^&*+-|=~_')"
   ]
  },
  {
   "cell_type": "code",
   "execution_count": 26,
   "metadata": {
    "collapsed": true
   },
   "outputs": [],
   "source": [
    "from sklearn.feature_extraction import text \n",
    "stopwords=text.ENGLISH_STOP_WORDS"
   ]
  },
  {
   "cell_type": "code",
   "execution_count": 27,
   "metadata": {
    "collapsed": true
   },
   "outputs": [],
   "source": [
    "import re\n",
    "regex1=re.compile(r\"\\.{2,}\")\n",
    "regex2=re.compile(r\"\\-{2,}\")"
   ]
  },
  {
   "cell_type": "code",
   "execution_count": 28,
   "metadata": {
    "collapsed": true
   },
   "outputs": [],
   "source": [
    "def get_parts(thetext):\n",
    "    thetext=re.sub(regex1, ' ', thetext)\n",
    "    thetext=re.sub(regex2, ' ', thetext)\n",
    "    nouns=[]\n",
    "    descriptives=[]\n",
    "    for i,sentence in enumerate(parse(thetext, tokenize=True, lemmata=True).split()):\n",
    "        nouns.append([])\n",
    "        descriptives.append([])\n",
    "        for token in sentence:\n",
    "            #print token\n",
    "            if len(token[4]) >0:\n",
    "                if token[1] in ['JJ', 'JJR', 'JJS']:\n",
    "                    if token[4] in stopwords or token[4][0] in punctuation or token[4][-1] in punctuation or len(token[4])==1:\n",
    "                        continue\n",
    "                    descriptives[i].append(token[4])\n",
    "                elif token[1] in ['NN', 'NNS']:\n",
    "                    if token[4] in stopwords or token[4][0] in punctuation or token[4][-1] in punctuation or len(token[4])==1:\n",
    "                        continue\n",
    "                    nouns[i].append(token[4])\n",
    "    out=zip(nouns, descriptives)\n",
    "    nouns2=[]\n",
    "    descriptives2=[]\n",
    "    for n,d in out:\n",
    "        if len(n)!=0 and len(d)!=0:\n",
    "            nouns2.append(n)\n",
    "            descriptives2.append(d)\n",
    "    return nouns2, descriptives2"
   ]
  },
  {
   "cell_type": "code",
   "execution_count": 30,
   "metadata": {
    "collapsed": false
   },
   "outputs": [
    {
     "name": "stdout",
     "output_type": "stream",
     "text": [
      "CPU times: user 1min 45s, sys: 399 ms, total: 1min 45s\n",
      "Wall time: 1min 45s\n"
     ]
    }
   ],
   "source": [
    "%%time\n",
    "\n",
    "parseout = []\n",
    "for index, row in df.iterrows() : \n",
    "    parseout.append(get_parts(row.text))"
   ]
  },
  {
   "cell_type": "code",
   "execution_count": 32,
   "metadata": {
    "collapsed": false
   },
   "outputs": [
    {
     "data": {
      "text/plain": [
       "[[],\n",
       " [[u'report', u'evidence', u'eating', u'meat', u'cancer', u'risk', u'person'],\n",
       "  [u'reviews', u'report', u'meat', u'cancer', u'risk', u'person']],\n",
       " [[u'question',\n",
       "   u'report',\n",
       "   u'colorectal',\n",
       "   u'cancer',\n",
       "   u'consumption',\n",
       "   u'meat',\n",
       "   u'meat']]]"
      ]
     },
     "execution_count": 32,
     "metadata": {},
     "output_type": "execute_result"
    }
   ],
   "source": [
    "#nouns are the first elements of the tuples\n",
    "[e[0] for e in parseout[:3]]"
   ]
  },
  {
   "cell_type": "code",
   "execution_count": 33,
   "metadata": {
    "collapsed": false
   },
   "outputs": [
    {
     "data": {
      "text/plain": [
       "[[u'report', u'evidence', u'eating', u'meat', u'cancer', u'risk', u'person'],\n",
       " [u'reviews', u'report', u'meat', u'cancer', u'risk', u'person'],\n",
       " [u'question',\n",
       "  u'report',\n",
       "  u'colorectal',\n",
       "  u'cancer',\n",
       "  u'consumption',\n",
       "  u'meat',\n",
       "  u'meat'],\n",
       " [u'polio',\n",
       "  u'vaccine',\n",
       "  u'scientist',\n",
       "  u'infant',\n",
       "  u'month',\n",
       "  u'measles',\n",
       "  u'vaccine',\n",
       "  u'risk'],\n",
       " [u'scientist',\n",
       "  u'polio',\n",
       "  u'vaccine',\n",
       "  u'release',\n",
       "  u'strain',\n",
       "  u'type',\n",
       "  u'virus',\n",
       "  u'paralysis']]"
      ]
     },
     "execution_count": 33,
     "metadata": {},
     "output_type": "execute_result"
    }
   ],
   "source": [
    "ldadatardd=sc.parallelize([ele[0] for ele in parseout]).flatMap(lambda l: l)\n",
    "ldadatardd.cache()\n",
    "ldadatardd.take(5)"
   ]
  },
  {
   "cell_type": "code",
   "execution_count": 34,
   "metadata": {
    "collapsed": false
   },
   "outputs": [
    {
     "data": {
      "text/plain": [
       "[u'report', u'evidence', u'eating', u'meat', u'cancer']"
      ]
     },
     "execution_count": 34,
     "metadata": {},
     "output_type": "execute_result"
    }
   ],
   "source": [
    "ldadatardd.flatMap(lambda word: word).take(5)"
   ]
  },
  {
   "cell_type": "code",
   "execution_count": 35,
   "metadata": {
    "collapsed": true
   },
   "outputs": [],
   "source": [
    "vocabtups = (ldadatardd.flatMap(lambda word: word)\n",
    "             .map(lambda word: (word, 1))\n",
    "             .reduceByKey(lambda a, b: a + b)\n",
    "             .map(lambda (x,y): x)\n",
    "             .zipWithIndex()\n",
    ").cache()"
   ]
  },
  {
   "cell_type": "code",
   "execution_count": 36,
   "metadata": {
    "collapsed": true
   },
   "outputs": [],
   "source": [
    "vocab=vocabtups.collectAsMap()\n",
    "id2word=vocabtups.map(lambda (x,y): (y,x)).collectAsMap()"
   ]
  },
  {
   "cell_type": "code",
   "execution_count": 37,
   "metadata": {
    "collapsed": false
   },
   "outputs": [
    {
     "data": {
      "text/plain": [
       "10537"
      ]
     },
     "execution_count": 37,
     "metadata": {},
     "output_type": "execute_result"
    }
   ],
   "source": [
    "len(vocab.keys())"
   ]
  },
  {
   "cell_type": "code",
   "execution_count": 38,
   "metadata": {
    "collapsed": true
   },
   "outputs": [],
   "source": [
    "#your code here\n",
    "from collections import defaultdict\n",
    "def get_count(s) : \n",
    "    d = defaultdict(int)\n",
    "    for w in s : \n",
    "        if vocab.has_key(w) :\n",
    "            i = vocab[w]\n",
    "            d[i] += 1\n",
    "    return d.items()\n",
    "documents = ldadatardd.map(get_count)"
   ]
  },
  {
   "cell_type": "code",
   "execution_count": 39,
   "metadata": {
    "collapsed": false
   },
   "outputs": [
    {
     "data": {
      "text/plain": [
       "[[(3201, 1), (6255, 1), (7828, 1), (4442, 1), (5359, 1), (1789, 1), (8158, 1)],\n",
       " [(5359, 1), (7828, 1), (5943, 1), (6255, 1), (1789, 1), (8158, 1)],\n",
       " [(5345, 1), (9803, 1), (5359, 2), (9971, 1), (6255, 1), (8158, 1)],\n",
       " [(3649, 1), (6275, 1), (3943, 1), (9777, 2), (7828, 1), (5301, 1), (6653, 1)],\n",
       " [(3649, 1),\n",
       "  (1606, 1),\n",
       "  (359, 1),\n",
       "  (6599, 1),\n",
       "  (9777, 1),\n",
       "  (5267, 1),\n",
       "  (5301, 1),\n",
       "  (9080, 1)]]"
      ]
     },
     "execution_count": 39,
     "metadata": {},
     "output_type": "execute_result"
    }
   ],
   "source": [
    "documents.take(5)"
   ]
  },
  {
   "cell_type": "code",
   "execution_count": 40,
   "metadata": {
    "collapsed": true
   },
   "outputs": [],
   "source": [
    "corpus=documents.collect()"
   ]
  },
  {
   "cell_type": "code",
   "execution_count": 41,
   "metadata": {
    "collapsed": true
   },
   "outputs": [],
   "source": [
    "import gensim"
   ]
  },
  {
   "cell_type": "code",
   "execution_count": 43,
   "metadata": {
    "collapsed": false
   },
   "outputs": [
    {
     "name": "stderr",
     "output_type": "stream",
     "text": [
      "WARNING:gensim.models.ldamodel:too few updates, training might not converge; consider increasing the number of passes or iterations to improve accuracy\n"
     ]
    }
   ],
   "source": [
    "#your code here\n",
    "lda2 = gensim.models.ldamodel.LdaModel(corpus=corpus, id2word=id2word, num_topics=10, update_every=1, chunksize=20000, passes=1)"
   ]
  },
  {
   "cell_type": "code",
   "execution_count": 44,
   "metadata": {
    "collapsed": false
   },
   "outputs": [
    {
     "data": {
      "text/plain": [
       "[u'0.031*year + 0.013*health + 0.012*company + 0.009*price + 0.009*week + 0.009*person + 0.009*drug + 0.008*time + 0.008*government + 0.007*oil',\n",
       " u'0.016*child + 0.013*government + 0.011*year + 0.011*measles + 0.010*state + 0.010*family + 0.009*parent + 0.008*man + 0.008*health + 0.007*day',\n",
       " u'0.013*home + 0.012*year + 0.011*news + 0.009*event + 0.009*family + 0.007*person + 0.007*official + 0.007*thing + 0.007*college + 0.006*wife',\n",
       " u'0.010*country + 0.008*year + 0.008*student + 0.007*law + 0.007*leader + 0.007*person + 0.007*risk + 0.006*health + 0.006*group + 0.006*state',\n",
       " u'0.013*drug + 0.009*time + 0.009*health + 0.009*school + 0.008*state + 0.007*official + 0.007*person + 0.007*family + 0.007*business + 0.006*life',\n",
       " u'0.025*year + 0.023*percent + 0.013*growth + 0.012*economy + 0.010*health + 0.009*market + 0.008*bank + 0.007*sale + 0.007*spending + 0.007*profit',\n",
       " u'0.033*health + 0.016*year + 0.015*care + 0.015*state + 0.014*doctor + 0.013*case + 0.012*law + 0.011*official + 0.010*death + 0.008*patient',\n",
       " u'0.023*state + 0.023*person + 0.009*year + 0.008*spill + 0.007*week + 0.007*health + 0.007*election + 0.006*official + 0.006*government + 0.006*city',\n",
       " u'0.013*person + 0.011*health + 0.010*worker + 0.010*life + 0.009*man + 0.009*state + 0.008*child + 0.008*country + 0.008*service + 0.006*official',\n",
       " u'0.036*health + 0.017*care + 0.011*case + 0.010*family + 0.009*hospital + 0.008*country + 0.008*official + 0.008*cost + 0.008*patient + 0.008*year']"
      ]
     },
     "execution_count": 44,
     "metadata": {},
     "output_type": "execute_result"
    }
   ],
   "source": [
    "lda2.print_topics()"
   ]
  },
  {
   "cell_type": "code",
   "execution_count": null,
   "metadata": {
    "collapsed": true
   },
   "outputs": [],
   "source": []
  }
 ],
 "metadata": {
  "kernelspec": {
   "display_name": "Python 2",
   "language": "python",
   "name": "python2"
  },
  "language_info": {
   "codemirror_mode": {
    "name": "ipython",
    "version": 2
   },
   "file_extension": ".py",
   "mimetype": "text/x-python",
   "name": "python",
   "nbconvert_exporter": "python",
   "pygments_lexer": "ipython2",
   "version": "2.7.10"
  }
 },
 "nbformat": 4,
 "nbformat_minor": 0
}
