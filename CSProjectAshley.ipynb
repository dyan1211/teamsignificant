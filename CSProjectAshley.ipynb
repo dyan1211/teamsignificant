{
 "cells": [
  {
   "cell_type": "code",
   "execution_count": 3,
   "metadata": {
    "collapsed": false
   },
   "outputs": [],
   "source": [
    "%matplotlib inline\n",
    "import numpy as np\n",
    "import scipy as sp\n",
    "import matplotlib as mpl\n",
    "import matplotlib.cm as cm\n",
    "import matplotlib.pyplot as plt\n",
    "import pandas as pd\n",
    "pd.set_option('display.width', 500)\n",
    "pd.set_option('display.max_columns', 100)\n",
    "pd.set_option('display.notebook_repr_html', True)\n",
    "#import seaborn as sns\n",
    "#sns.set_style(\"whitegrid\")\n",
    "#sns.set_context(\"poster\")"
   ]
  },
  {
   "cell_type": "code",
   "execution_count": 4,
   "metadata": {
    "collapsed": true
   },
   "outputs": [],
   "source": [
    "import requests\n",
    "import time\n",
    "import json"
   ]
  },
  {
   "cell_type": "code",
   "execution_count": 15,
   "metadata": {
    "collapsed": false
   },
   "outputs": [],
   "source": [
    "docs=[]\n",
    "n = 100 #number of pages\n",
    "\n",
    "#get first 100 pages of json dictionaries\n",
    "for i in range(1,n+1): \n",
    "    url = \"http://api.nytimes.com/svc/search/v2/articlesearch.json?q=Health&page=%d&api-key=5cdab36b05348a4da2e74046dfb16a03:17:73541790\" % i\n",
    "    page = requests.get(url)\n",
    "    pagedocs = page.json()['response']['docs']\n",
    "    time.sleep(1)\n",
    "    \n",
    "    #append each separate dictionary from a page to docs\n",
    "    for j in range(0,len(pagedocs)):\n",
    "        docs.append(pagedocs[j])"
   ]
  },
  {
   "cell_type": "code",
   "execution_count": 16,
   "metadata": {
    "collapsed": false
   },
   "outputs": [],
   "source": [
    "fd=open(\"nytdocs100-2.json\",\"w\")\n",
    "json.dump(docs, fd)\n",
    "fd.close()"
   ]
  },
  {
   "cell_type": "code",
   "execution_count": 8,
   "metadata": {
    "collapsed": false
   },
   "outputs": [],
   "source": [
    "with open(\"nytdocs100.json\") as json_file:\n",
    "    docs = json.load(json_file)"
   ]
  },
  {
   "cell_type": "code",
   "execution_count": 18,
   "metadata": {
    "collapsed": false
   },
   "outputs": [],
   "source": [
    "docsinfo = []\n",
    "for d in docs:\n",
    "    obs = {}\n",
    "    obs['id'] = d['_id']\n",
    "    obs['type'] = d['type_of_material']\n",
    "    obs['doctype'] = d['document_type']\n",
    "    obs['date'] = d['pub_date']\n",
    "    obs['news_desk'] = d['news_desk']\n",
    "    obs['section'] = d['section_name']\n",
    "    obs['subsection'] = d['subsection_name']\n",
    "    obs['headline'] = d['headline']['main']\n",
    "    obs['abstract'] = d['abstract']\n",
    "    obs['paragraph'] = d['lead_paragraph']\n",
    "    \n",
    "    \n",
    "    if obs['date'] is not None:\n",
    "        obs['date'] = obs['date'][0:10]\n",
    "    \n",
    "    #Take out abstracts and lead paragraphs with none to join text\n",
    "    if obs['abstract'] is None:\n",
    "        a = ' '\n",
    "    else: \n",
    "        a = obs['abstract']\n",
    "    if obs['paragraph'] == 'TK TK TK' or obs['paragraph'] is None:\n",
    "        p = ' '\n",
    "    else:\n",
    "        p = obs['paragraph']\n",
    "    \n",
    "    text = [obs['headline'], p, a]\n",
    "    obs['text'] = \" \".join(text)\n",
    "    \n",
    "    docsinfo.append(obs)"
   ]
  },
  {
   "cell_type": "code",
   "execution_count": 19,
   "metadata": {
    "collapsed": false
   },
   "outputs": [
    {
     "data": {
      "text/html": [
       "<div>\n",
       "<table border=\"1\" class=\"dataframe\">\n",
       "  <thead>\n",
       "    <tr style=\"text-align: right;\">\n",
       "      <th></th>\n",
       "      <th>abstract</th>\n",
       "      <th>date</th>\n",
       "      <th>doctype</th>\n",
       "      <th>headline</th>\n",
       "      <th>id</th>\n",
       "      <th>news_desk</th>\n",
       "      <th>paragraph</th>\n",
       "      <th>section</th>\n",
       "      <th>subsection</th>\n",
       "      <th>text</th>\n",
       "      <th>type</th>\n",
       "    </tr>\n",
       "  </thead>\n",
       "  <tbody>\n",
       "    <tr>\n",
       "      <th>0</th>\n",
       "      <td>None</td>\n",
       "      <td>2015-11-03</td>\n",
       "      <td>article</td>\n",
       "      <td>Know Your Risks, but Meat Still Isn’t the Enemy</td>\n",
       "      <td>56374e0a798810408f299696</td>\n",
       "      <td>Upshot</td>\n",
       "      <td>The link between processed meat and cancer is ...</td>\n",
       "      <td>The Upshot</td>\n",
       "      <td>None</td>\n",
       "      <td>Know Your Risks, but Meat Still Isn’t the Enem...</td>\n",
       "      <td>News</td>\n",
       "    </tr>\n",
       "    <tr>\n",
       "      <th>1</th>\n",
       "      <td>Study in journal The Lancet concludes Chinese ...</td>\n",
       "      <td>2015-10-13</td>\n",
       "      <td>article</td>\n",
       "      <td>Study Shows Spread of Cigarettes in China</td>\n",
       "      <td>561bc3a67988101d11e0da9e</td>\n",
       "      <td>Science</td>\n",
       "      <td>Chinese men smoke one-third of all the world’s...</td>\n",
       "      <td>Health</td>\n",
       "      <td>None</td>\n",
       "      <td>Study Shows Spread of Cigarettes in China Chin...</td>\n",
       "      <td>News</td>\n",
       "    </tr>\n",
       "    <tr>\n",
       "      <th>2</th>\n",
       "      <td>Food and Drug Administration approves Narcan n...</td>\n",
       "      <td>2015-11-19</td>\n",
       "      <td>article</td>\n",
       "      <td>F.D.A. Approves a Nasal Spray to Combat Opioid...</td>\n",
       "      <td>564d433579881039a958bb07</td>\n",
       "      <td>National</td>\n",
       "      <td>A nasal spray designed to reverse opioid overd...</td>\n",
       "      <td>U.S.</td>\n",
       "      <td>None</td>\n",
       "      <td>F.D.A. Approves a Nasal Spray to Combat Opioid...</td>\n",
       "      <td>Brief</td>\n",
       "    </tr>\n",
       "    <tr>\n",
       "      <th>3</th>\n",
       "      <td>None</td>\n",
       "      <td>2015-11-17</td>\n",
       "      <td>article</td>\n",
       "      <td>How to Decrease Prices for an Expensive Class ...</td>\n",
       "      <td>5649c243798810095961385d</td>\n",
       "      <td>Upshot</td>\n",
       "      <td>Two professors suggest requiring biologic manu...</td>\n",
       "      <td>The Upshot</td>\n",
       "      <td>None</td>\n",
       "      <td>How to Decrease Prices for an Expensive Class ...</td>\n",
       "      <td>News</td>\n",
       "    </tr>\n",
       "    <tr>\n",
       "      <th>4</th>\n",
       "      <td>None</td>\n",
       "      <td>2015-10-07</td>\n",
       "      <td>article</td>\n",
       "      <td>Ragout With Farfalle Gets a Touch of Green</td>\n",
       "      <td>56143f92798810321b0fac91</td>\n",
       "      <td>Dining</td>\n",
       "      <td>The sweet taste and texture of broccoli leaves...</td>\n",
       "      <td>Food</td>\n",
       "      <td>None</td>\n",
       "      <td>Ragout With Farfalle Gets a Touch of Green The...</td>\n",
       "      <td>News</td>\n",
       "    </tr>\n",
       "  </tbody>\n",
       "</table>\n",
       "</div>"
      ],
      "text/plain": [
       "                                            abstract        date  doctype                                           headline                        id news_desk                                          paragraph     section subsection                                               text   type\n",
       "0                                               None  2015-11-03  article    Know Your Risks, but Meat Still Isn’t the Enemy  56374e0a798810408f299696    Upshot  The link between processed meat and cancer is ...  The Upshot       None  Know Your Risks, but Meat Still Isn’t the Enem...   News\n",
       "1  Study in journal The Lancet concludes Chinese ...  2015-10-13  article          Study Shows Spread of Cigarettes in China  561bc3a67988101d11e0da9e   Science  Chinese men smoke one-third of all the world’s...      Health       None  Study Shows Spread of Cigarettes in China Chin...   News\n",
       "2  Food and Drug Administration approves Narcan n...  2015-11-19  article  F.D.A. Approves a Nasal Spray to Combat Opioid...  564d433579881039a958bb07  National  A nasal spray designed to reverse opioid overd...        U.S.       None  F.D.A. Approves a Nasal Spray to Combat Opioid...  Brief\n",
       "3                                               None  2015-11-17  article  How to Decrease Prices for an Expensive Class ...  5649c243798810095961385d    Upshot  Two professors suggest requiring biologic manu...  The Upshot       None  How to Decrease Prices for an Expensive Class ...   News\n",
       "4                                               None  2015-10-07  article         Ragout With Farfalle Gets a Touch of Green  56143f92798810321b0fac91    Dining  The sweet taste and texture of broccoli leaves...        Food       None  Ragout With Farfalle Gets a Touch of Green The...   News"
      ]
     },
     "execution_count": 19,
     "metadata": {},
     "output_type": "execute_result"
    }
   ],
   "source": [
    "docsdf = pd.DataFrame(docsinfo)\n",
    "docsdf.head()"
   ]
  },
  {
   "cell_type": "code",
   "execution_count": 20,
   "metadata": {
    "collapsed": false
   },
   "outputs": [
    {
     "data": {
      "text/plain": [
       "(1000, 11)"
      ]
     },
     "execution_count": 20,
     "metadata": {},
     "output_type": "execute_result"
    }
   ],
   "source": [
    "docsdf.shape"
   ]
  },
  {
   "cell_type": "code",
   "execution_count": 55,
   "metadata": {
    "collapsed": false
   },
   "outputs": [
    {
     "data": {
      "text/plain": [
       "abstract     object\n",
       "date         object\n",
       "headline     object\n",
       "id           object\n",
       "paragraph    object\n",
       "text         object\n",
       "type         object\n",
       "dtype: object"
      ]
     },
     "execution_count": 55,
     "metadata": {},
     "output_type": "execute_result"
    }
   ],
   "source": [
    "docsdf.dtypes"
   ]
  },
  {
   "cell_type": "markdown",
   "metadata": {},
   "source": [
    "Make date column a date type\n",
    "\n",
    "http://stackoverflow.com/questions/9504356/convert-string-into-date-type-on-python\n",
    "\n",
    "http://stackoverflow.com/questions/16852911/how-do-i-convert-dates-in-a-pandas-data-frame-to-a-date-data-type  ***"
   ]
  },
  {
   "cell_type": "code",
   "execution_count": 21,
   "metadata": {
    "collapsed": false
   },
   "outputs": [],
   "source": [
    "docsdf['date'] = pd.to_datetime(docsdf['date'])"
   ]
  },
  {
   "cell_type": "code",
   "execution_count": 61,
   "metadata": {
    "collapsed": false
   },
   "outputs": [
    {
     "data": {
      "text/plain": [
       "abstract             object\n",
       "date         datetime64[ns]\n",
       "headline             object\n",
       "id                   object\n",
       "paragraph            object\n",
       "text                 object\n",
       "type                 object\n",
       "dtype: object"
      ]
     },
     "execution_count": 61,
     "metadata": {},
     "output_type": "execute_result"
    }
   ],
   "source": [
    "docsdf.dtypes"
   ]
  },
  {
   "cell_type": "code",
   "execution_count": 22,
   "metadata": {
    "collapsed": false
   },
   "outputs": [],
   "source": [
    "docsdf.to_csv(\"docsdf100-2.c\")"
   ]
  },
  {
   "cell_type": "code",
   "execution_count": 14,
   "metadata": {
    "collapsed": false
   },
   "outputs": [
    {
     "ename": "ImportError",
     "evalue": "No module named 'pattern'",
     "output_type": "error",
     "traceback": [
      "\u001b[1;31m---------------------------------------------------------------------------\u001b[0m",
      "\u001b[1;31mImportError\u001b[0m                               Traceback (most recent call last)",
      "\u001b[1;32m<ipython-input-14-41966c2cbf8a>\u001b[0m in \u001b[0;36m<module>\u001b[1;34m()\u001b[0m\n\u001b[1;32m----> 1\u001b[1;33m \u001b[1;32mfrom\u001b[0m \u001b[0mpattern\u001b[0m\u001b[1;33m.\u001b[0m\u001b[0men\u001b[0m \u001b[1;32mimport\u001b[0m \u001b[0mparse\u001b[0m\u001b[1;33m\u001b[0m\u001b[0m\n\u001b[0m\u001b[0;32m      2\u001b[0m \u001b[1;32mfrom\u001b[0m \u001b[0mpattern\u001b[0m\u001b[1;33m.\u001b[0m\u001b[0men\u001b[0m \u001b[1;32mimport\u001b[0m \u001b[0mpprint\u001b[0m\u001b[1;33m\u001b[0m\u001b[0m\n\u001b[0;32m      3\u001b[0m \u001b[1;32mfrom\u001b[0m \u001b[0mpattern\u001b[0m\u001b[1;33m.\u001b[0m\u001b[0mvector\u001b[0m \u001b[1;32mimport\u001b[0m \u001b[0mstem\u001b[0m\u001b[1;33m,\u001b[0m \u001b[0mPORTER\u001b[0m\u001b[1;33m,\u001b[0m \u001b[0mLEMMA\u001b[0m\u001b[1;33m\u001b[0m\u001b[0m\n\u001b[0;32m      4\u001b[0m \u001b[0mpunctuation\u001b[0m \u001b[1;33m=\u001b[0m \u001b[0mlist\u001b[0m\u001b[1;33m(\u001b[0m\u001b[1;34m'.,;:!?()[]{}`'\u001b[0m\u001b[1;34m'\\\"@#$^&*+-|=~_'\u001b[0m\u001b[1;33m)\u001b[0m\u001b[1;33m\u001b[0m\u001b[0m\n\u001b[0;32m      5\u001b[0m \u001b[1;33m\u001b[0m\u001b[0m\n",
      "\u001b[1;31mImportError\u001b[0m: No module named 'pattern'"
     ]
    }
   ],
   "source": [
    "from pattern.en import parse\n",
    "from pattern.en import pprint\n",
    "from pattern.vector import stem, PORTER, LEMMA\n",
    "punctuation = list('.,;:!?()[]{}`''\\\"@#$^&*+-|=~_')\n",
    "\n",
    "\n",
    "from sklearn.feature_extraction import text \n",
    "stopwords=text.ENGLISH_STOP_WORDS\n",
    " \n"
   ]
  }
 ],
 "metadata": {
  "kernelspec": {
   "display_name": "Python 3",
   "language": "python",
   "name": "python3"
  },
  "language_info": {
   "codemirror_mode": {
    "name": "ipython",
    "version": 3
   },
   "file_extension": ".py",
   "mimetype": "text/x-python",
   "name": "python",
   "nbconvert_exporter": "python",
   "pygments_lexer": "ipython3",
   "version": "3.5.0"
  }
 },
 "nbformat": 4,
 "nbformat_minor": 0
}
